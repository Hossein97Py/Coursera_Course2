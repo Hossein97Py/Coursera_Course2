{
  "cells": [
    {
      "cell_type": "markdown",
      "id": "7157a70f",
      "metadata": {
        "id": "7157a70f"
      },
      "source": [
        "# Coursera_ML Course2_Week3"
      ]
    },
    {
      "cell_type": "markdown",
      "id": "fc21f320",
      "metadata": {
        "id": "fc21f320"
      },
      "source": [
        "مباحث بایاس و واریانس به همراه انتخاب مدل که اول این هفته بحث میشه رو تو نوت بوک تو کولب نوشتم که گویا ذخیره نشده"
      ]
    },
    {
      "cell_type": "markdown",
      "id": "0eab3dcf",
      "metadata": {
        "id": "0eab3dcf"
      },
      "source": [
        "## ML development process"
      ]
    },
    {
      "cell_type": "markdown",
      "id": "d30d656d",
      "metadata": {
        "id": "d30d656d"
      },
      "source": [
        "اول بایستی معماری مدل ( شامل دیتا، نوع مدل و غیره) مشخص بشه. بعد مدل ترین میشه  و بعد ارزیابی میکنیم. بایاس و واریانس و ارور و اینا رو چک میکنیم و در صورت لزوم معماری مدل رو تغییر میدیم. معمولا این حلقه بایستی چندین مرتبه تکرار بشه"
      ]
    },
    {
      "cell_type": "markdown",
      "id": "2dd49ee2",
      "metadata": {
        "id": "2dd49ee2"
      },
      "source": [
        "برای اینکه بفهمیم مدل مون در چه وضعیه و چجوری میشه بهبودش داد، بعد بایاس و واریانس بحث آنالیز خطا میتونه خیلی کمک کننده باشه"
      ]
    },
    {
      "cell_type": "markdown",
      "id": "795b56e9",
      "metadata": {
        "id": "795b56e9"
      },
      "source": [
        "آنالیز خطا اینجوریه که مثلا 500 تا دیتای کراس ولیدیشن داریم. الگوریتم مون 100 تا رو اشتباه دسته بندی کرده. میاییم این دیتاهایی که اشتباه براشون رخ داده رو بررسی میکنیم که چرا   . این اتفاق رخ داده. سعی میکنیم خطاهارو دسته بندی کنیم که با حل یک مشکل تمام اون دسته حل بشن یک نکته هم هست اینکخ این کار برای تسک هایی که انسان ها توش خوبن جواب میده مثل تشخیص ایمیل تبلیغاتی. ولی مثلا برای پیش بینی رفتار یک شخص مثل کلیک کردن روی تبلیغ خاص خیلی کمک کننده نیست و سخته"
      ]
    },
    {
      "cell_type": "markdown",
      "id": "c93c25a1",
      "metadata": {
        "id": "c93c25a1"
      },
      "source": [
        "در مورد اضافه کردن دیتا هم بحث آنالیز ارور مهمه. معمولا جمع آوری دیتای بیشتر هزینه بر هست. بهتره که در زمینه دیتاهایی که تو ارور آنالیز باهاشون مشکل پیدا کردیم دیتای بیشتری جمع آوری بشه. یک راه جایگزین هم اینه که با همون دیتاهایی که داریم دیتاهای جدید بسازیم. مثلا در زمینه تشخیص نوشته ها، یک تصویر که مشخصه چه حرفی هست رو بچرخونیم، بزرگ یا کوچیک کنیم. این کار به ما تصاویر جدیدی میده که همون حرف قبلی هستند ما به همون دیتایی که داشتیم دیتای جدید ساختیم. یک راه دیگه هم اینه که خودمون دیتا تولید کنیمو مثلا برای کار تشخیص نوشته ها رز روی تصاویر میتونیم با فونت های مختلف متن بنویسیم و در شرایط مختلف ازشون عکس بگیریم. با این دیتا مدل رو ترین کنیم."
      ]
    },
    {
      "cell_type": "markdown",
      "id": "a51e45f7",
      "metadata": {
        "id": "a51e45f7"
      },
      "source": [
        "  بعضی موقع ها هم پیش میاد که تحت هیچ شرایطی نمیشه دیتای جدید حاصل کرد میتونیم از دیتاهای مشابه بیاریم تو کار خودمون استفاده کنیم "
      ]
    },
    {
      "cell_type": "markdown",
      "id": "43af249c",
      "metadata": {
        "id": "43af249c"
      },
      "source": [
        "Transfer learning: using data from a different task"
      ]
    },
    {
      "cell_type": "markdown",
      "id": "6ad31945",
      "metadata": {
        "id": "6ad31945"
      },
      "source": [
        "مثلا یک الگوریتم دسته بندی اعداد دست نویس داریم ولی دیتای کافی برای ترین نداریم. یک مدل توسعه داده شده که یک میلیون عکس رو بررسی کرده و تو هزار تا دسته بندی مشخص کرده عکس چی هست. مثلا تو 5 تا لایه این کار رو رده. میتونیم از پارامتر هایی که این مدل پیدا کرده استفاده کنیم. البته لایه آخری این هزار تا نورون داره ولی مال ما ده تا هست. پارامترهای لایه آخر رو باید خودمون بدست بیاریم. یک راه دیگه هم اینه که نیاییم کلا از این پارامترها استفاده کنیم بلکه این پرامترها رو به عنوان مقادیر اولیه برای پارامترهای مدل خودمون بذاریم و مدل رو ترین کنیم (بسته به سایز دیتاست خودمون داره ) این کار رو بهش میگن supervised pretraining and then find tuning"
      ]
    },
    {
      "cell_type": "markdown",
      "id": "2adf2a04",
      "metadata": {
        "id": "2adf2a04"
      },
      "source": [
        "# Week 3: Lab"
      ]
    },
    {
      "cell_type": "code",
      "execution_count": 23,
      "id": "1aa2b99a",
      "metadata": {
        "id": "1aa2b99a"
      },
      "outputs": [],
      "source": [
        "import numpy as np\n",
        "\n",
        "import matplotlib.pyplot as plt\n",
        "from sklearn.linear_model import LinearRegression, Ridge\n",
        "from sklearn.preprocessing import StandardScaler, PolynomialFeatures\n",
        "from sklearn.model_selection import train_test_split\n",
        "from sklearn.metrics import mean_squared_error\n",
        "import tensorflow as tf\n",
        "from tensorflow.keras.models import Sequential\n",
        "from tensorflow.keras.layers import Dense\n",
        "from tensorflow.keras.activations import relu,linear\n",
        "from tensorflow.keras.losses import SparseCategoricalCrossentropy\n",
        "from tensorflow.keras.optimizers import Adam"
      ]
    },
    {
      "cell_type": "code",
      "execution_count": 13,
      "id": "1cf789ca",
      "metadata": {
        "colab": {
          "base_uri": "https://localhost:8080/"
        },
        "id": "1cf789ca",
        "outputId": "8cf44786-c9e8-4689-c202-9820141e9a6c"
      },
      "outputs": [
        {
          "output_type": "stream",
          "name": "stdout",
          "text": [
            "X.shape 18 y.shape 18\n",
            "X_train.shape 12 y_train.shape 12\n",
            "X_test.shape 6 y_test.shape 6\n"
          ]
        }
      ],
      "source": [
        "# train test split:\n",
        "# Generate some data\n",
        "X = [0, 2.88, 5.76, 8.65, 11.53, 14.41, 17.29, 20.18, 23.06, 25.94, 28.82, 31.71, 34.59, 37.47, 40.35, 43.24, 46.12, 49.];\n",
        "y = [0, 5.55, 34.39, 71.39, 125.52, 183.03, 237.25, 441.08, 457.14, 563.11, 901.24, 1025.77, 890.33, 1417.39, 1268.67, 2242.65, 2653.83, 2391.31];\n",
        "x_ideal= [0, 2.88, 5.76, 8.65, 11.53, 14.41, 17.29, 20.18, 23.06, 25.94, 28.82, 31.71, 34.59, 37.47, 40.35, 43.24, 46.12, 49.]\n",
        "y_ideal= [0, 8.31, 33.23, 74.77, 132.93, 207.7, 299.09, 407.09, 531.71, 672.94, 830.8, 1005.26, 1196.35, 1404.04, 1628.36, 1869.29, 2126.84, 2401.]\n",
        "print(\"X.shape\", len(X), \"y.shape\", len(y))\n",
        "\n",
        "#split the data using sklearn routine \n",
        "X_train, X_test, y_train, y_test = train_test_split(X,y,test_size=0.33, random_state=1) # we used 1/3 of the data for the test which is 6 out of 18\n",
        "print(\"X_train.shape\", len(X_train), \"y_train.shape\", len(y_train))\n",
        "print(\"X_test.shape\", len(X_test), \"y_test.shape\", len(y_test))"
      ]
    },
    {
      "cell_type": "code",
      "source": [
        "# دیتای ترین و دیتای تست رندوم هستند و یک رفتار دارند\n",
        "fig, ax = plt.subplots(1,1,figsize=(4,4))\n",
        "ax.plot(x_ideal, y_ideal, \"--\", color = \"orangered\", label=\"y_ideal\", lw=1)\n",
        "ax.set_title(\"Training, Test\",fontsize = 14)\n",
        "ax.set_xlabel(\"x\")\n",
        "ax.set_ylabel(\"y\")\n",
        "\n",
        "ax.scatter(X_train, y_train, color = \"red\",    label=\"train\")\n",
        "ax.scatter(X_test, y_test,   color = \"blue\",   label=\"test\")\n",
        "ax.legend(loc='upper left')\n",
        "plt.show()"
      ],
      "metadata": {
        "colab": {
          "base_uri": "https://localhost:8080/",
          "height": 296
        },
        "id": "ENiPa9MEka7j",
        "outputId": "ab1dbc82-6d31-4244-baa6-57057e72c367"
      },
      "id": "ENiPa9MEka7j",
      "execution_count": 17,
      "outputs": [
        {
          "output_type": "display_data",
          "data": {
            "text/plain": [
              "<Figure size 288x288 with 1 Axes>"
            ],
            "image/png": "[encoded data removed]"
          },
          "metadata": {
            "needs_background": "light"
          }
        }
      ]
    },
    {
      "cell_type": "markdown",
      "source": [
        "<a name=\"2.2\"></a>\n",
        "### 2.2 Error calculation for model evaluation, linear regression\n",
        "When *evaluating* a linear regression model, you average the squared error difference of the predicted values and the target values.\n",
        "\n",
        "$$ J_\\text{test}(\\mathbf{w},b) = \n",
        "            \\frac{1}{2m_\\text{test}}\\sum_{i=0}^{m_\\text{test}-1} ( f_{\\mathbf{w},b}(\\mathbf{x}^{(i)}_\\text{test}) - y^{(i)}_\\text{test} )^2 \n",
        "            \\tag{1}\n",
        "$$"
      ],
      "metadata": {
        "id": "vbuzYtYAolS3"
      },
      "id": "vbuzYtYAolS3"
    },
    {
      "cell_type": "markdown",
      "source": [
        "در ادامه چند تا مدل که تو این لب ساختم رو کدش رو میذارم"
      ],
      "metadata": {
        "id": "X1VzENFPwKpF"
      },
      "id": "X1VzENFPwKpF"
    },
    {
      "cell_type": "markdown",
      "source": [
        "### Exercise 3\n",
        "Below, compose a three-layer model:\n",
        "* Dense layer with 120 units, relu activation\n",
        "* Dense layer with 40 units, relu activation\n",
        "* Dense layer with 6 units and a linear activation (not softmax)  \n",
        "Compile using\n",
        "* loss with `SparseCategoricalCrossentropy`, remember to use  `from_logits=True`\n",
        "* Adam optimizer with learning rate of 0.01."
      ],
      "metadata": {
        "id": "IK2bF7lFwaF3"
      },
      "id": "IK2bF7lFwaF3"
    },
    {
      "cell_type": "code",
      "source": [
        "tf.random.set_seed(1234)\n",
        "model = Sequential(\n",
        "    [\n",
        "        ### START CODE HERE ### \n",
        "  Dense(units=120, activation='relu'),\n",
        "  Dense(units=40, activation='relu'),\n",
        "  Dense(units=6, activation='linear'),\n",
        "        ### END CODE HERE ### \n",
        "\n",
        "    ], name=\"Complex\"\n",
        ")\n",
        "model.compile(\n",
        "    ### START CODE HERE ### \n",
        "    loss=SparseCategoricalCrossentropy(from_logits=True),\n",
        "    optimizer=tf.keras.optimizers.Adam(learning_rate=0.01),\n",
        "    ### END CODE HERE ### \n",
        ")"
      ],
      "metadata": {
        "id": "LOzqdwXIqRg0"
      },
      "id": "LOzqdwXIqRg0",
      "execution_count": 28,
      "outputs": []
    },
    {
      "cell_type": "markdown",
      "source": [
        "### Exercise 5\n",
        "\n",
        "Reconstruct your complex model, but this time include regularization.\n",
        "Below, compose a three-layer model:\n",
        "* Dense layer with 120 units, relu activation, `kernel_regularizer=tf.keras.regularizers.l2(0.1)`\n",
        "* Dense layer with 40 units, relu activation, `kernel_regularizer=tf.keras.regularizers.l2(0.1)`\n",
        "* Dense layer with 6 units and a linear activation. \n",
        "Compile using\n",
        "* loss with `SparseCategoricalCrossentropy`, remember to use  `from_logits=True`\n",
        "* Adam optimizer with learning rate of 0.01."
      ],
      "metadata": {
        "id": "if1q4kovwwqZ"
      },
      "id": "if1q4kovwwqZ"
    },
    {
      "cell_type": "code",
      "source": [
        "tf.random.set_seed(1234)\n",
        "model_r = Sequential(\n",
        "    [\n",
        "        ### START CODE HERE ### \n",
        "        Dense(units=120, activation='relu', kernel_regularizer=tf.keras.regularizers.l2(0.1)),\n",
        "        Dense(units=40, activation='relu', kernel_regularizer=tf.keras.regularizers.l2(0.1)),\n",
        "        Dense(units=6, activation='linear'),\n",
        "        ### START CODE HERE ### \n",
        "    ], name= None\n",
        ")\n",
        "model_r.compile(\n",
        "    ### START CODE HERE ### \n",
        "    loss=SparseCategoricalCrossentropy(from_logits=True),\n",
        "    optimizer=tf.keras.optimizers.Adam(learning_rate=0.01),\n",
        "    ### START CODE HERE ### \n",
        ")"
      ],
      "metadata": {
        "id": "gH9faBrLwk03"
      },
      "id": "gH9faBrLwk03",
      "execution_count": 29,
      "outputs": []
    },
    {
      "cell_type": "code",
      "source": [],
      "metadata": {
        "id": "vDkf9MFqw0k-"
      },
      "id": "vDkf9MFqw0k-",
      "execution_count": null,
      "outputs": []
    }
  ],
  "metadata": {
    "kernelspec": {
      "display_name": "Python 3 (ipykernel)",
      "language": "python",
      "name": "python3"
    },
    "language_info": {
      "codemirror_mode": {
        "name": "ipython",
        "version": 3
      },
      "file_extension": ".py",
      "mimetype": "text/x-python",
      "name": "python",
      "nbconvert_exporter": "python",
      "pygments_lexer": "ipython3",
      "version": "3.9.7"
    },
    "colab": {
      "provenance": [],
      "collapsed_sections": []
    }
  },
  "nbformat": 4,
  "nbformat_minor": 5
}