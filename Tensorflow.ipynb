{
  "nbformat": 4,
  "nbformat_minor": 0,
  "metadata": {
    "colab": {
      "provenance": [],
      "authorship_tag": "ABX9TyO/IMGCZ+QY1GxMhM9ZUevd",
      "include_colab_link": true
    },
    "kernelspec": {
      "name": "python3",
      "display_name": "Python 3"
    },
    "language_info": {
      "name": "python"
    }
  },
  "cells": [
    {
      "cell_type": "markdown",
      "metadata": {
        "id": "view-in-github",
        "colab_type": "text"
      },
      "source": [
        "<a href=\"https://colab.research.google.com/github/Hossein97Py/Coursera_Course2/blob/main/Tensorflow.ipynb\" target=\"_parent\"><img src=\"https://colab.research.google.com/assets/colab-badge.svg\" alt=\"Open In Colab\"/></a>"
      ]
    },
    {
      "cell_type": "markdown",
      "source": [
        "Introduction to Keras and TensorFlow \n",
        "\n",
        "---\n",
        "\n"
      ],
      "metadata": {
        "id": "9e-KiTEreFHn"
      }
    },
    {
      "cell_type": "markdown",
      "source": [
        "# Chapter 3 of the Deep Learning with Python book by François Chollet"
      ],
      "metadata": {
        "id": "DRiPHYTCvLKe"
      }
    },
    {
      "cell_type": "code",
      "source": [
        "import tensorflow as tf"
      ],
      "metadata": {
        "id": "GY1udrQ6FRJP"
      },
      "execution_count": null,
      "outputs": []
    },
    {
      "cell_type": "code",
      "source": [
        "X = tf.ones(shape=(2, 1))"
      ],
      "metadata": {
        "id": "OfGWxQFeFiWo"
      },
      "execution_count": null,
      "outputs": []
    },
    {
      "cell_type": "code",
      "source": [
        "print(X)"
      ],
      "metadata": {
        "id": "EVnxj6-mFn1y",
        "outputId": "ac312e9b-824b-48a5-9bef-c94a19bd7174",
        "colab": {
          "base_uri": "https://localhost:8080/"
        }
      },
      "execution_count": null,
      "outputs": [
        {
          "output_type": "stream",
          "name": "stdout",
          "text": [
            "tf.Tensor(\n",
            "[[1.]\n",
            " [1.]], shape=(2, 1), dtype=float32)\n"
          ]
        }
      ]
    },
    {
      "cell_type": "markdown",
      "source": [
        "## A Tensor isn't assignable"
      ],
      "metadata": {
        "id": "ZPnolUERGacd"
      }
    },
    {
      "cell_type": "markdown",
      "source": [
        "A significant difference between NumPy arrays and TensorFlow tensors is that Tensor-\n",
        "Flow tensors aren’t assignable: they’re constant. For instance, in NumPy, you can do\n",
        "the following."
      ],
      "metadata": {
        "id": "dVp5x5PTF_9r"
      }
    },
    {
      "cell_type": "code",
      "source": [
        "import numpy as np\n",
        "Y = np.ones(shape=(2, 2))\n",
        "Y[0, 0] = 0\n",
        "print(Y)"
      ],
      "metadata": {
        "id": "uwz8RlaaFqcf",
        "outputId": "223c06f7-bb2f-4e27-bb9d-27e5d5a59bf2",
        "colab": {
          "base_uri": "https://localhost:8080/"
        }
      },
      "execution_count": null,
      "outputs": [
        {
          "output_type": "stream",
          "name": "stdout",
          "text": [
            "[[0. 1.]\n",
            " [1. 1.]]\n"
          ]
        }
      ]
    },
    {
      "cell_type": "markdown",
      "source": [
        "این کار رو برای یک تنسور نمیتونیم انجام بدیم ولی میتونیم با تنسورفلو یک متغییر بسازیم و بعد با اساین مقدارش رو تغییر بدیم"
      ],
      "metadata": {
        "id": "rQykMdjGG6bm"
      }
    },
    {
      "cell_type": "code",
      "source": [
        "v = tf.Variable(initial_value=tf.random.normal(shape=(3, 1)))\n",
        "print(v)\n",
        "v[0, 0].assign(1376)\n",
        "print(v)"
      ],
      "metadata": {
        "id": "9tBa8TYFGmoL",
        "outputId": "2255e43d-8313-4083-8e81-a2e9d6b0869d",
        "colab": {
          "base_uri": "https://localhost:8080/"
        }
      },
      "execution_count": null,
      "outputs": [
        {
          "output_type": "stream",
          "name": "stdout",
          "text": [
            "<tf.Variable 'Variable:0' shape=(3, 1) dtype=float32, numpy=\n",
            "array([[-1.9715313 ],\n",
            "       [ 0.20442016],\n",
            "       [-2.448335  ]], dtype=float32)>\n",
            "<tf.Variable 'Variable:0' shape=(3, 1) dtype=float32, numpy=\n",
            "array([[ 1.3760000e+03],\n",
            "       [ 2.0442016e-01],\n",
            "       [-2.4483349e+00]], dtype=float32)>\n"
          ]
        }
      ]
    },
    {
      "cell_type": "markdown",
      "source": [
        "# Youtube Video ==> Tensorflow Introduction"
      ],
      "metadata": {
        "id": "kHdYwo4Xnt-Y"
      }
    },
    {
      "cell_type": "markdown",
      "source": [
        "Tensor: \"A tensor is a generalization of vectors and matrices to potentially higher dimensions. Internally, TensorFlow represents tensors as n-dimensional arrays of base datatypes.\"\n",
        "\n",
        "TensorFlow programs work by building a graph of Tensor objects that details how tensors are related. Running different parts of the graph allow results to be generated.\n",
        "\n",
        "Each tensor has a data type and a shape.\n",
        "\n",
        "Data Types Include: float32, int32, string and others.\n",
        "\n",
        "Shape: Represents the dimension of data."
      ],
      "metadata": {
        "id": "R5gzfNT1olW5"
      }
    },
    {
      "cell_type": "markdown",
      "source": [
        "ساخت تنسور: برای ساخت مقدار و نوع تنسور رو مشخص میکنیم. معمولا تنسورها عددی هستند و به ندرت تنسور متنی داریم"
      ],
      "metadata": {
        "id": "7t3JDBAVotHl"
      }
    },
    {
      "cell_type": "code",
      "source": [
        "import tensorflow as tf\n",
        "string1 = tf.Variable(\"Hi, This is string\", tf.string)\n",
        "number1 = tf.Variable(324, tf.int16)\n",
        "floating1 = tf.Variable(3.567, tf.float64)\n",
        "print(string1, number1, floating1)"
      ],
      "metadata": {
        "id": "qKiP0kVbMaqS",
        "colab": {
          "base_uri": "https://localhost:8080/"
        },
        "outputId": "78d8e4ac-ea63-4a29-8298-08567418970a"
      },
      "execution_count": 19,
      "outputs": [
        {
          "output_type": "stream",
          "name": "stdout",
          "text": [
            "<tf.Variable 'Variable:0' shape=() dtype=string, numpy=b'Hi, This is string'> <tf.Variable 'Variable:0' shape=() dtype=int32, numpy=324> <tf.Variable 'Variable:0' shape=() dtype=float32, numpy=3.567>\n"
          ]
        }
      ]
    },
    {
      "cell_type": "markdown",
      "source": [
        "تنسورها رنک یا درجه دارند که درواقع میشه همون ابعادشون. مثلا این تنسور بالایی‌ها رنک صفر یا اسکالر بودن\n",
        "\n",
        "A rank two tensor is what we typically think of as a matrix, a rank one tensor is a vector. For a rank two tensor you can access any element with the syntax t[i, j]. For a rank three tensor you would need to address an element with t[i, j, k]."
      ],
      "metadata": {
        "id": "cVxrYX-Dp_O9"
      }
    },
    {
      "cell_type": "code",
      "source": [
        "rank1_tensor = tf.Variable([\"Test\"], tf.string)\n",
        "rank2_tensor = tf.Variable([[\"test\", \"OK\"], [\"test\", \"yes\"]], tf.string)\n",
        "print(rank2_tensor)\n",
        "tf.rank(rank2_tensor)"
      ],
      "metadata": {
        "id": "bSgsLKJPpskh",
        "outputId": "4c63562f-2a26-448e-990c-6ed48fa485e4",
        "colab": {
          "base_uri": "https://localhost:8080/"
        }
      },
      "execution_count": 20,
      "outputs": [
        {
          "output_type": "stream",
          "name": "stdout",
          "text": [
            "<tf.Variable 'Variable:0' shape=(2, 2) dtype=string, numpy=\n",
            "array([[b'test', b'OK'],\n",
            "       [b'test', b'yes']], dtype=object)>\n"
          ]
        },
        {
          "output_type": "execute_result",
          "data": {
            "text/plain": [
              "<tf.Tensor: shape=(), dtype=int32, numpy=2>"
            ]
          },
          "metadata": {},
          "execution_count": 20
        }
      ]
    },
    {
      "cell_type": "code",
      "source": [
        "rank2_tensor.shape"
      ],
      "metadata": {
        "id": "wRT6AjDlqkYa",
        "outputId": "88f49b3b-5ae8-4e8d-b2ab-4fbf80392435",
        "colab": {
          "base_uri": "https://localhost:8080/"
        }
      },
      "execution_count": 21,
      "outputs": [
        {
          "output_type": "execute_result",
          "data": {
            "text/plain": [
              "TensorShape([2, 2])"
            ]
          },
          "metadata": {},
          "execution_count": 21
        }
      ]
    },
    {
      "cell_type": "code",
      "source": [
        "matrix = [[1,2,3,4,5],\n",
        "          [6,7,8,9,10],\n",
        "          [11,12,13,14,15],\n",
        "          [16,17,18,19,20]]\n",
        "\n",
        "tensor = tf.Variable(matrix, dtype=tf.int32) \n",
        "print(tf.rank(tensor))\n",
        "print(tensor.shape)"
      ],
      "metadata": {
        "id": "inFz8ItfsZs4",
        "outputId": "e6a67d1b-37cc-401c-8bc1-b13d390c6b58",
        "colab": {
          "base_uri": "https://localhost:8080/"
        }
      },
      "execution_count": 22,
      "outputs": [
        {
          "output_type": "stream",
          "name": "stdout",
          "text": [
            "tf.Tensor(2, shape=(), dtype=int32)\n",
            "(4, 5)\n"
          ]
        }
      ]
    },
    {
      "cell_type": "markdown",
      "source": [
        "این تنسور رنک 2 هست با شیپ 4 در 5"
      ],
      "metadata": {
        "id": "Ocog3FgouD66"
      }
    },
    {
      "cell_type": "code",
      "source": [
        "column1 = tensor[:, 0]  # selects the first column\n",
        "print(column1)\n",
        "\n",
        "row_2_and_4 = tensor[1::2]  # selects second and fourth row\n",
        "print(row_2_and_4)"
      ],
      "metadata": {
        "id": "D9oRRGBWuAgx",
        "outputId": "ffea1541-5e2c-4b33-dbbc-0c4683930eda",
        "colab": {
          "base_uri": "https://localhost:8080/"
        }
      },
      "execution_count": 23,
      "outputs": [
        {
          "output_type": "stream",
          "name": "stdout",
          "text": [
            "tf.Tensor([ 1  6 11 16], shape=(4,), dtype=int32)\n",
            "tf.Tensor(\n",
            "[[ 6  7  8  9 10]\n",
            " [16 17 18 19 20]], shape=(2, 5), dtype=int32)\n"
          ]
        }
      ]
    },
    {
      "cell_type": "markdown",
      "source": [
        "ما چهار نوع تنسور داریم که وریبل یک نوع شون هست. بقیه تنسورها تغییر ناپذیر هستن"
      ],
      "metadata": {
        "id": "_Z6UdnBBuqD-"
      }
    },
    {
      "cell_type": "markdown",
      "source": [
        "###Types of Tensors\n",
        "Before we go to far, I will mention that there are diffent types of tensors. These are the most used and we will talk more in depth about each as they are used.\n",
        "- Variable\n",
        "- Constant\n",
        "- Placeholder\n",
        "- SparseTensor\n",
        "\n",
        "With the execption of ```Variable``` all these tensors are immuttable, meaning their value may not change during execution."
      ],
      "metadata": {
        "id": "gbRnmbu-u0Ix"
      }
    },
    {
      "cell_type": "code",
      "source": [],
      "metadata": {
        "id": "Ma-BIlVKuVlK"
      },
      "execution_count": 23,
      "outputs": []
    }
  ]
}