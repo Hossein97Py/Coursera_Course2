{
  "nbformat": 4,
  "nbformat_minor": 0,
  "metadata": {
    "colab": {
      "provenance": [],
      "authorship_tag": "ABX9TyPbajy2I8WHdaftMClqacaU",
      "include_colab_link": true
    },
    "kernelspec": {
      "name": "python3",
      "display_name": "Python 3"
    },
    "language_info": {
      "name": "python"
    }
  },
  "cells": [
    {
      "cell_type": "markdown",
      "metadata": {
        "id": "view-in-github",
        "colab_type": "text"
      },
      "source": [
        "<a href=\"https://colab.research.google.com/github/Hossein97Py/Coursera_Course2/blob/main/Tensorflow.ipynb\" target=\"_parent\"><img src=\"https://colab.research.google.com/assets/colab-badge.svg\" alt=\"Open In Colab\"/></a>"
      ]
    },
    {
      "cell_type": "markdown",
      "source": [
        "Introduction to Keras and TensorFlow \n",
        "\n",
        "---\n",
        "\n",
        "\n",
        "\n",
        "---\n",
        "\n",
        "\n",
        "Chapter 3 of the Deep Learning with Python book by François Chollet"
      ],
      "metadata": {
        "id": "9e-KiTEreFHn"
      }
    },
    {
      "cell_type": "code",
      "source": [
        "import tensorflow as tf"
      ],
      "metadata": {
        "id": "GY1udrQ6FRJP"
      },
      "execution_count": null,
      "outputs": []
    },
    {
      "cell_type": "code",
      "source": [
        "X = tf.ones(shape=(2, 1))"
      ],
      "metadata": {
        "id": "OfGWxQFeFiWo"
      },
      "execution_count": null,
      "outputs": []
    },
    {
      "cell_type": "code",
      "source": [
        "print(X)"
      ],
      "metadata": {
        "id": "EVnxj6-mFn1y",
        "outputId": "ac312e9b-824b-48a5-9bef-c94a19bd7174",
        "colab": {
          "base_uri": "https://localhost:8080/"
        }
      },
      "execution_count": null,
      "outputs": [
        {
          "output_type": "stream",
          "name": "stdout",
          "text": [
            "tf.Tensor(\n",
            "[[1.]\n",
            " [1.]], shape=(2, 1), dtype=float32)\n"
          ]
        }
      ]
    },
    {
      "cell_type": "markdown",
      "source": [
        "# A Tensor isn't assignable"
      ],
      "metadata": {
        "id": "ZPnolUERGacd"
      }
    },
    {
      "cell_type": "markdown",
      "source": [
        "A significant difference between NumPy arrays and TensorFlow tensors is that Tensor-\n",
        "Flow tensors aren’t assignable: they’re constant. For instance, in NumPy, you can do\n",
        "the following."
      ],
      "metadata": {
        "id": "dVp5x5PTF_9r"
      }
    },
    {
      "cell_type": "code",
      "source": [
        "import numpy as np\n",
        "Y = np.ones(shape=(2, 2))\n",
        "Y[0, 0] = 0\n",
        "print(Y)"
      ],
      "metadata": {
        "id": "uwz8RlaaFqcf",
        "outputId": "223c06f7-bb2f-4e27-bb9d-27e5d5a59bf2",
        "colab": {
          "base_uri": "https://localhost:8080/"
        }
      },
      "execution_count": null,
      "outputs": [
        {
          "output_type": "stream",
          "name": "stdout",
          "text": [
            "[[0. 1.]\n",
            " [1. 1.]]\n"
          ]
        }
      ]
    },
    {
      "cell_type": "markdown",
      "source": [
        "این کار رو برای یک تنسور نمیتونیم انجام بدیم ولی میتونیم با تنسورفلو یک متغییر بسازیم و بعد با اساین مقدارش رو تغییر بدیم"
      ],
      "metadata": {
        "id": "rQykMdjGG6bm"
      }
    },
    {
      "cell_type": "code",
      "source": [
        "v = tf.Variable(initial_value=tf.random.normal(shape=(3, 1)))\n",
        "print(v)\n",
        "v[0, 0].assign(1376)\n",
        "print(v)"
      ],
      "metadata": {
        "id": "9tBa8TYFGmoL",
        "outputId": "2255e43d-8313-4083-8e81-a2e9d6b0869d",
        "colab": {
          "base_uri": "https://localhost:8080/"
        }
      },
      "execution_count": null,
      "outputs": [
        {
          "output_type": "stream",
          "name": "stdout",
          "text": [
            "<tf.Variable 'Variable:0' shape=(3, 1) dtype=float32, numpy=\n",
            "array([[-1.9715313 ],\n",
            "       [ 0.20442016],\n",
            "       [-2.448335  ]], dtype=float32)>\n",
            "<tf.Variable 'Variable:0' shape=(3, 1) dtype=float32, numpy=\n",
            "array([[ 1.3760000e+03],\n",
            "       [ 2.0442016e-01],\n",
            "       [-2.4483349e+00]], dtype=float32)>\n"
          ]
        }
      ]
    },
    {
      "cell_type": "markdown",
      "source": [
        "# Youtube Video ==> Tensorflow Introduction"
      ],
      "metadata": {
        "id": "kHdYwo4Xnt-Y"
      }
    },
    {
      "cell_type": "code",
      "source": [],
      "metadata": {
        "id": "qKiP0kVbMaqS"
      },
      "execution_count": null,
      "outputs": []
    }
  ]
}